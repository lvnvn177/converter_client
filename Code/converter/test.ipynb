{
 "cells": [
  {
   "cell_type": "code",
   "execution_count": 3,
   "metadata": {},
   "outputs": [
    {
     "data": {
      "text/plain": [
       "'2.4.1+cu121'"
      ]
     },
     "execution_count": 3,
     "metadata": {},
     "output_type": "execute_result"
    }
   ],
   "source": [
    "import torch\n",
    "\n",
    "torch.__version__"
   ]
  },
  {
   "cell_type": "code",
   "execution_count": 17,
   "metadata": {},
   "outputs": [],
   "source": [
    "from langchain.document_loaders import PyMuPDFLoader\n",
    "from langchain_text_splitters import RecursiveCharacterTextSplitter\n",
    "from langchain_community.embeddings import HuggingFaceBgeEmbeddings\n",
    "from langchain_chroma import Chroma\n",
    "from langchain_ollama import ChatOllama\n",
    "from langchain.chains import create_retrieval_chain\n",
    "from langchain.chains.combine_documents import create_stuff_documents_chain\n",
    "from langchain_core.prompts import ChatPromptTemplate\n",
    "from langchain_core.output_parsers import StrOutputParser\n",
    "from langchain_teddynote.messages import stream_response"
   ]
  },
  {
   "cell_type": "code",
   "execution_count": 18,
   "metadata": {},
   "outputs": [],
   "source": [
    "PDF_PATH = \"KCI_FI002984601.pdf\"\n",
    "loader = PyMuPDFLoader(PDF_PATH)\n",
    "docs = loader.load()"
   ]
  },
  {
   "cell_type": "code",
   "execution_count": 19,
   "metadata": {},
   "outputs": [],
   "source": [
    "text_splitter = RecursiveCharacterTextSplitter(chunk_size=1000, chunk_overlap=200)\n",
    "splits = text_splitter.split_documents(docs)"
   ]
  },
  {
   "cell_type": "code",
   "execution_count": 20,
   "metadata": {},
   "outputs": [
    {
     "name": "stderr",
     "output_type": "stream",
     "text": [
      "/Users/iyeongho/lvnvn/capstone_2024/come-capstone24-converter/003 Code/converter/capstone_python/lib/python3.10/site-packages/huggingface_hub/file_download.py:1150: FutureWarning: `resume_download` is deprecated and will be removed in version 1.0.0. Downloads always resume when possible. If you want to force a new download, use `force_download=True`.\n",
      "  warnings.warn(\n"
     ]
    }
   ],
   "source": [
    "hfe = HuggingFaceBgeEmbeddings(\n",
    "    model_name=\"BAAI/bge-m3\",\n",
    "    model_kwargs={\"device\": \"cpu\"},\n",
    "    encode_kwargs={\"normalize_embeddings\": True}\n",
    ")"
   ]
  },
  {
   "cell_type": "code",
   "execution_count": 21,
   "metadata": {},
   "outputs": [],
   "source": [
    "vectorstore = Chroma.from_documents(documents=splits, embedding=hfe)\n",
    "retriever = vectorstore.as_retriever()"
   ]
  },
  {
   "cell_type": "code",
   "execution_count": 22,
   "metadata": {},
   "outputs": [],
   "source": [
    "llm = ChatOllama(\n",
    "    model=\"llama3.1:8b\",\n",
    "    repeat_penalty=1.3,\n",
    "    seed=2024,\n",
    "    temperature=0.6,\n",
    "    top_p=0.5,\n",
    "    )"
   ]
  },
  {
   "cell_type": "code",
   "execution_count": 23,
   "metadata": {},
   "outputs": [],
   "source": [
    "#프롬프트 설정 (일반 질문, 요약, 번역)\n",
    "system_prompt_general = (\n",
    "    \"You are an assistant for general question-answering tasks. \"\n",
    "    \"Provide accurate and concise information. Answer in Korean.\"\n",
    "    \"\\n\\n\"\n",
    "    \"{context}\"\n",
    ")\n",
    "\n",
    "system_prompt_summary = (\n",
    "    \"You are an assistant specialized in summarizing academic papers. \"\n",
    "    \"Summarize the provided text in three to five sentences. Answer in Korean.\"\n",
    "    \"\\n\\n\"\n",
    "    \"{context}\"\n",
    ")\n",
    "\n",
    "system_prompt_translation = (\n",
    "    \"You are an assistant that translates English to Korean. \"\n",
    "    \"Translate the following text accurately and naturally into Korean.\"\n",
    "    \"\\n\\n\"\n",
    "    \"{context}\"\n",
    ")\n",
    "\n",
    "prompt = ChatPromptTemplate.from_messages(\n",
    "    [\n",
    "        (\"system\", system_prompt_translation),\n",
    "        (\"human\", \"{input}\"),\n",
    "    ]\n",
    ")\n",
    "\n",
    "# qa_chain = create_stuff_documents_chain(llm, prompt)\n",
    "# rag_chain = create_retrieval_chain(retriever, qa_chain)"
   ]
  },
  {
   "cell_type": "code",
   "execution_count": 24,
   "metadata": {},
   "outputs": [],
   "source": [
    "#질의 분석 함수: 사용자의 요청이 요약인지, 번역인지 결정\n",
    "def analyze_query(query):\n",
    "    query_lower = query.lower()\n",
    "    if \"요약\" in query_lower or \"summarize\" in query_lower:\n",
    "        return \"summary\"\n",
    "    elif \"번역\" in query_lower or \"translate\" in query_lower:\n",
    "        return \"translation\"\n",
    "    else:\n",
    "        return \"general\""
   ]
  },
  {
   "cell_type": "code",
   "execution_count": 25,
   "metadata": {},
   "outputs": [],
   "source": [
    "#프롬프트 선택 및 응답 생성 함수\n",
    "def handle_query(query):\n",
    "    # 질의 분석하여 요약, 번역, 일반 질문 구분\n",
    "    query_type = analyze_query(query)\n",
    "    chosen_prompt = \"\"\n",
    "    if query_type == \"summary\":\n",
    "        chosen_prompt = ChatPromptTemplate.from_messages([(\"system\", system_prompt_summary), (\"human\", \"{input}\")])\n",
    "    elif query_type == \"translation\":\n",
    "        chosen_prompt = ChatPromptTemplate.from_messages([(\"system\", system_prompt_translation), (\"human\", \"{input}\")])\n",
    "    else:\n",
    "        chosen_prompt = ChatPromptTemplate.from_messages([(\"system\", system_prompt_general), (\"human\", \"{input}\")])\n",
    "\n",
    "    qa_chain = create_stuff_documents_chain(llm, chosen_prompt)\n",
    "    rag_chain = create_retrieval_chain(retriever, qa_chain)\n",
    "    \n",
    "    response = rag_chain.invoke({\"input\": query})\n",
    "    \n",
    "    return response[\"answer\"]"
   ]
  },
  {
   "cell_type": "code",
   "execution_count": 27,
   "metadata": {},
   "outputs": [
    {
     "name": "stdout",
     "output_type": "stream",
     "text": [
      "Response: 아래는 원문을 한국어로 정확하고 자연스럽게 옮긴 결과입니다.\n",
      "\n",
      "**영문**\n",
      "\n",
      "appeared to inﬂuence the work reported in this paper.\n",
      "Acknowledgements\n",
      "This study was presented at the International Conference on Nuclear Analytical Techniques in 2022 (NAT2022), which was held in Daejeon, Korea, from December 7 to 9, 2022. This study was supported by a faculty research grant from Yonsei University College of Medicine for 2022 (6-2022-0064) and the National Research Foundation of Korea (NRF) funded by the Korea government (MSIT)(2022R1A2C2011556).\n",
      "References\n",
      "[1] W.A. Kalender, R. Hebel, J. Ebersberger, Reduction of CT artifacts caused by metallic implants, Radiology 164(2) (1987)576e577.\n",
      "[2] S.Zhao,K.T.Bae,B.Whiting,G.Wang,A wavelet method for metal artifact reduction with multiple metallic objects in the field of view,J.X Ray Sci. Technol.10(1)(2002)67e76, 2.\n",
      "[3] M.Bal,L.Spies,MetalartifactreductioninCTusingtissue-class modelingandadaptive preﬁltering,Med.Phys.33(8)(2006)2852e2859.\n",
      "\n",
      "appeared to inﬂuence the work reported in this paper.\n",
      "Acknowledgements\n",
      "This study was presented at the International Conference on Nuclear Analytical Techniques in 2022 (NAT2022), which was held in Daejeon, Korea, from December 7 to 9, 2022. This study was supported by a faculty research grant from Yonsei University College of Medicine for 2022 (6-2022-0064) and the National Research Foundation of Korea (NRF) funded by the Korea government (MSIT)(2022R1A2C2011556).\n",
      "References\n",
      "[1] W.A. Kalender, R.Hebel,J.Ebersberger,ReductionofCTartifactscausedby metallicimplants,Radiology164(1987),576e577.\n",
      "[2] S.Zhao,K.T.Bae,B.Whiting,G.Wang,Awaveletmethodformetalartifactreductionwithmultiplemetallicobjectsintheﬁeld of view,J.X Ray Sci. Technol.(2002)67, 76\n",
      "[3] M.Bal,L.Spies,Metal artifact reduction in CT using tissue-class modeling and adaptive pre ﬂtering ,Med.Phys (2006),2859\n",
      "\n",
      "1738-5733/2023 Korean Nuclear Society Published by Elsevier Korea LLC. This is an open access article under the CC BY license(http://creativecommons.org/licenses/by /4.0/)\n",
      "Nuclear Engineering and Technology 55(2023) 2854e2863\n",
      "1738-5733/2023 Korean Nuclear Society, Published by Elsevier Korea LLC.\n",
      "\n",
      "**한국어**\n",
      "\n",
      "이 논문은 다음과 같은 내용을 담고 있습니다.\n",
      "1. 이 연구는 NAT2022 국제 학술대회에서 발표되었으며, 한국의 대전시에서 개최되었습니다(12월 7일-9일).\n",
      "   이 연구는 연세대학교 의과대학 교수연구비 지원 및 국립기초과학원(NRF)으로부터 정부지원을 받았습니다.\n",
      "   \n",
      "2. 참고문헌\n",
      "[1] W.A.Kalender, R.Hebel,J.Ebersberger,\"MetallicimplantcausingCTartifactsreduction\",Radiology164(1987),576-577.\n",
      "[2] S.Zhao,K.T.Bae,B.Whiting,G.Wang\"Waveletmethodformetalartifactreductionwithmultiplemetallicobjectsintheviewof X-ray \",J.X Ray Sci. Technol.(2002)67, 76\n",
      "[3]\"Metal artifact reduction in CT using tissue-class modeling and adaptive pre ﬂtering\",Med.Phys (2006),2859\n",
      "\n",
      "이 논문은 다음과 같은 저널에 게재되었습니다.\n",
      "Nuclear Engineering and Technology 55(2023)\n",
      "\n",
      "저자들은 이 연구가 다른 학술논문의 결과를 반영한 것으로 보이며, 연세대학교 의과대학 교수연구비 지원 및 국립기초과학원(NRF)으로부터 정부지원을 받았다고 밝혔습니다.\n"
     ]
    }
   ],
   "source": [
    "user_input = \"이 논문의 내용을 번역해 주세요.\"\n",
    "response = handle_query(user_input)\n",
    "print(\"Response:\", response)"
   ]
  },
  {
   "cell_type": "code",
   "execution_count": null,
   "metadata": {},
   "outputs": [],
   "source": []
  }
 ],
 "metadata": {
  "kernelspec": {
   "display_name": ".venv",
   "language": "python",
   "name": "python3"
  },
  "language_info": {
   "codemirror_mode": {
    "name": "ipython",
    "version": 3
   },
   "file_extension": ".py",
   "mimetype": "text/x-python",
   "name": "python",
   "nbconvert_exporter": "python",
   "pygments_lexer": "ipython3",
   "version": "3.10.12"
  }
 },
 "nbformat": 4,
 "nbformat_minor": 2
}
